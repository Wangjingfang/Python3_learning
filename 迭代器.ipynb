{
 "cells": [
  {
   "cell_type": "code",
   "execution_count": 1,
   "metadata": {},
   "outputs": [],
   "source": [
    "# Iterable 凡是可以返回迭代对象的都可称为迭代对象，迭代器对象一般都含有iter或者getitem方法\n",
    "# 可以用hassttr（list,'__iter__'） dir(list)查看"
   ]
  },
  {
   "cell_type": "code",
   "execution_count": 3,
   "metadata": {},
   "outputs": [
    {
     "data": {
      "text/plain": [
       "True"
      ]
     },
     "execution_count": 3,
     "metadata": {},
     "output_type": "execute_result"
    }
   ],
   "source": [
    "hasattr(list,'__iter__')"
   ]
  },
  {
   "cell_type": "code",
   "execution_count": 4,
   "metadata": {},
   "outputs": [
    {
     "data": {
      "text/plain": [
       "True"
      ]
     },
     "execution_count": 4,
     "metadata": {},
     "output_type": "execute_result"
    }
   ],
   "source": [
    "hasattr(list,'__getitem__')"
   ]
  },
  {
   "cell_type": "code",
   "execution_count": 5,
   "metadata": {
    "scrolled": true
   },
   "outputs": [
    {
     "data": {
      "text/plain": [
       "['__add__',\n",
       " '__class__',\n",
       " '__contains__',\n",
       " '__delattr__',\n",
       " '__delitem__',\n",
       " '__dir__',\n",
       " '__doc__',\n",
       " '__eq__',\n",
       " '__format__',\n",
       " '__ge__',\n",
       " '__getattribute__',\n",
       " '__getitem__',\n",
       " '__gt__',\n",
       " '__hash__',\n",
       " '__iadd__',\n",
       " '__imul__',\n",
       " '__init__',\n",
       " '__init_subclass__',\n",
       " '__iter__',\n",
       " '__le__',\n",
       " '__len__',\n",
       " '__lt__',\n",
       " '__mul__',\n",
       " '__ne__',\n",
       " '__new__',\n",
       " '__reduce__',\n",
       " '__reduce_ex__',\n",
       " '__repr__',\n",
       " '__reversed__',\n",
       " '__rmul__',\n",
       " '__setattr__',\n",
       " '__setitem__',\n",
       " '__sizeof__',\n",
       " '__str__',\n",
       " '__subclasshook__',\n",
       " 'append',\n",
       " 'clear',\n",
       " 'copy',\n",
       " 'count',\n",
       " 'extend',\n",
       " 'index',\n",
       " 'insert',\n",
       " 'pop',\n",
       " 'remove',\n",
       " 'reverse',\n",
       " 'sort']"
      ]
     },
     "execution_count": 5,
     "metadata": {},
     "output_type": "execute_result"
    }
   ],
   "source": [
    "dir(list)"
   ]
  },
  {
   "cell_type": "code",
   "execution_count": 6,
   "metadata": {},
   "outputs": [
    {
     "name": "stdout",
     "output_type": "stream",
     "text": [
      "a\n"
     ]
    }
   ],
   "source": [
    "# 可以使用内建函数iter()获取迭代对象，然后用next()方法来获取迭代器内的内容\n",
    "list_test=['a','bb','ccc','a1']\n",
    "list_iter = iter(list_test)\n",
    "print(next(list_iter))"
   ]
  },
  {
   "cell_type": "code",
   "execution_count": 7,
   "metadata": {},
   "outputs": [
    {
     "name": "stdout",
     "output_type": "stream",
     "text": [
      "bb\n"
     ]
    }
   ],
   "source": [
    "print(next(list_iter))"
   ]
  },
  {
   "cell_type": "code",
   "execution_count": 8,
   "metadata": {},
   "outputs": [
    {
     "name": "stdout",
     "output_type": "stream",
     "text": [
      "ccc\n",
      "a1\n"
     ]
    }
   ],
   "source": [
    "print(next(list_iter))\n",
    "print(next(list_iter))"
   ]
  },
  {
   "cell_type": "code",
   "execution_count": 9,
   "metadata": {},
   "outputs": [
    {
     "ename": "StopIteration",
     "evalue": "",
     "output_type": "error",
     "traceback": [
      "\u001b[0;31m---------------------------------------------------------------------------\u001b[0m",
      "\u001b[0;31mStopIteration\u001b[0m                             Traceback (most recent call last)",
      "\u001b[0;32m<ipython-input-9-847004f5f0d0>\u001b[0m in \u001b[0;36m<module>\u001b[0;34m\u001b[0m\n\u001b[0;32m----> 1\u001b[0;31m \u001b[0mprint\u001b[0m\u001b[0;34m(\u001b[0m\u001b[0mnext\u001b[0m\u001b[0;34m(\u001b[0m\u001b[0mlist_iter\u001b[0m\u001b[0;34m)\u001b[0m\u001b[0;34m)\u001b[0m\u001b[0;34m\u001b[0m\u001b[0;34m\u001b[0m\u001b[0m\n\u001b[0m",
      "\u001b[0;31mStopIteration\u001b[0m: "
     ]
    }
   ],
   "source": [
    "print(next(list_iter))"
   ]
  },
  {
   "cell_type": "code",
   "execution_count": 10,
   "metadata": {},
   "outputs": [],
   "source": [
    "# 如上，迭代器的内容，每次由开始到终点后，就停止迭代了，内容只能遍历一次。\n",
    "# 迭代器只能往前不能后退，迭代器仅仅在迭代至某个元素时才计算该元素，而这之前或之后，元素可以不存在或者被销毁。惰性求值（lazy evaluation）"
   ]
  },
  {
   "cell_type": "code",
   "execution_count": 12,
   "metadata": {},
   "outputs": [],
   "source": [
    "# 写一个只返回奇数的迭代器\n",
    "class MyIter01:\n",
    "    def __init__(self,start=0,end=0):\n",
    "        self.start = start\n",
    "        self.end = end\n",
    "    \n",
    "    def __iter__(self):\n",
    "        print('It is my iterator')\n",
    "        return self\n",
    "    \n",
    "    def __next__(self):\n",
    "        i = (self.start - 1)*2 + 1\n",
    "        if i < self.end:\n",
    "            self.start += 1\n",
    "            return i\n",
    "        else:\n",
    "            raise StopIteration()"
   ]
  },
  {
   "cell_type": "code",
   "execution_count": 13,
   "metadata": {},
   "outputs": [
    {
     "name": "stdout",
     "output_type": "stream",
     "text": [
      "It is my iterator\n",
      "1\n",
      "3\n",
      "5\n",
      "7\n"
     ]
    }
   ],
   "source": [
    "iter_test = MyIter01(1,8)\n",
    "for i in iter_test:\n",
    "    print(i)"
   ]
  },
  {
   "cell_type": "code",
   "execution_count": 14,
   "metadata": {},
   "outputs": [
    {
     "name": "stdout",
     "output_type": "stream",
     "text": [
      "1\n"
     ]
    }
   ],
   "source": [
    "# 用next() 方法来访问迭代器\n",
    "iter_test = MyIter01(1,8)\n",
    "print(next(iter_test))"
   ]
  },
  {
   "cell_type": "code",
   "execution_count": 15,
   "metadata": {},
   "outputs": [
    {
     "name": "stdout",
     "output_type": "stream",
     "text": [
      "3\n"
     ]
    }
   ],
   "source": [
    "print(next(iter_test))"
   ]
  },
  {
   "cell_type": "code",
   "execution_count": 16,
   "metadata": {},
   "outputs": [
    {
     "name": "stdout",
     "output_type": "stream",
     "text": [
      "5\n"
     ]
    }
   ],
   "source": [
    "print(next(iter_test))"
   ]
  },
  {
   "cell_type": "code",
   "execution_count": 17,
   "metadata": {},
   "outputs": [],
   "source": [
    "# 直接输出迭代器的内容是不行的，需要通过list()转换，或着使用for i in iter的方式\n",
    "iter_test = MyIter01(1,8)"
   ]
  },
  {
   "cell_type": "code",
   "execution_count": 18,
   "metadata": {},
   "outputs": [
    {
     "name": "stdout",
     "output_type": "stream",
     "text": [
      "<__main__.MyIter01 object at 0x7fd4f07c36d8>\n"
     ]
    }
   ],
   "source": [
    "#显示迭代器本身\n",
    "print(iter_test)"
   ]
  },
  {
   "cell_type": "code",
   "execution_count": 19,
   "metadata": {},
   "outputs": [
    {
     "name": "stdout",
     "output_type": "stream",
     "text": [
      "It is my iterator\n",
      "[1, 3, 5, 7]\n"
     ]
    }
   ],
   "source": [
    "#第一次显示列表化的迭代器：\n",
    "print(list(iter_test))"
   ]
  },
  {
   "cell_type": "code",
   "execution_count": 20,
   "metadata": {},
   "outputs": [
    {
     "name": "stdout",
     "output_type": "stream",
     "text": [
      "It is my iterator\n",
      "[]\n"
     ]
    }
   ],
   "source": [
    "# 第二次再次显示列表化的迭代器\n",
    "print(list(iter_test))"
   ]
  },
  {
   "cell_type": "code",
   "execution_count": 21,
   "metadata": {},
   "outputs": [],
   "source": [
    "# 因为迭代器的特性，第一次值输出完后，就没有输出了"
   ]
  },
  {
   "cell_type": "code",
   "execution_count": 22,
   "metadata": {},
   "outputs": [
    {
     "name": "stdout",
     "output_type": "stream",
     "text": [
      "0\n",
      "2\n",
      "4\n",
      "6\n",
      "8\n"
     ]
    }
   ],
   "source": [
    "a = iter(list(range(10)))\n",
    "for i in a:\n",
    "    print(i)\n",
    "    next(a)"
   ]
  },
  {
   "cell_type": "code",
   "execution_count": 23,
   "metadata": {},
   "outputs": [],
   "source": [
    "# next() 方法将迭代的任务完成了，因此输出的时候，就是一个偶数序列了。"
   ]
  },
  {
   "cell_type": "code",
   "execution_count": 25,
   "metadata": {},
   "outputs": [
    {
     "name": "stdout",
     "output_type": "stream",
     "text": [
      "[0, 1, 2, 3, 4, 5, 6, 7, 8, 9]\n",
      "0\n"
     ]
    },
    {
     "ename": "TypeError",
     "evalue": "'list' object is not an iterator",
     "output_type": "error",
     "traceback": [
      "\u001b[0;31m---------------------------------------------------------------------------\u001b[0m",
      "\u001b[0;31mTypeError\u001b[0m                                 Traceback (most recent call last)",
      "\u001b[0;32m<ipython-input-25-2ec5b4e656ad>\u001b[0m in \u001b[0;36m<module>\u001b[0;34m\u001b[0m\n\u001b[1;32m      4\u001b[0m \u001b[0;32mfor\u001b[0m \u001b[0mi\u001b[0m \u001b[0;32min\u001b[0m \u001b[0ma\u001b[0m\u001b[0;34m:\u001b[0m\u001b[0;34m\u001b[0m\u001b[0;34m\u001b[0m\u001b[0m\n\u001b[1;32m      5\u001b[0m     \u001b[0mprint\u001b[0m\u001b[0;34m(\u001b[0m\u001b[0mi\u001b[0m\u001b[0;34m)\u001b[0m\u001b[0;34m\u001b[0m\u001b[0;34m\u001b[0m\u001b[0m\n\u001b[0;32m----> 6\u001b[0;31m     \u001b[0mnext\u001b[0m\u001b[0;34m(\u001b[0m\u001b[0ma\u001b[0m\u001b[0;34m)\u001b[0m\u001b[0;34m\u001b[0m\u001b[0;34m\u001b[0m\u001b[0m\n\u001b[0m",
      "\u001b[0;31mTypeError\u001b[0m: 'list' object is not an iterator"
     ]
    }
   ],
   "source": [
    "#错误示例： 没有把list()变为迭代器对象\n",
    "a = list(range(10))\n",
    "print(a)\n",
    "for i in a:\n",
    "    print(i)\n",
    "    next(a)"
   ]
  },
  {
   "cell_type": "code",
   "execution_count": 26,
   "metadata": {},
   "outputs": [],
   "source": [
    "# Itertools模块\n",
    "# 该模块有许多高效的循环迭代器，如下："
   ]
  },
  {
   "cell_type": "code",
   "execution_count": 30,
   "metadata": {},
   "outputs": [],
   "source": [
    "# 1.  count() 函数\n",
    "# count(start,[step]) 从start开始，以后每个元素都加上step,step默认值为1,输出一个无限序列\n",
    "# count() 语法： itertools.count(start = 0, step =1)"
   ]
  },
  {
   "cell_type": "code",
   "execution_count": 6,
   "metadata": {},
   "outputs": [],
   "source": [
    "# 2.  islice()函数\n",
    "# 如下2中参数传递方式：\n",
    "#    1）itertools.islice(iterable,stop)\n",
    "#    2) itertools.islice(iterable,start,stop,step)"
   ]
  },
  {
   "cell_type": "code",
   "execution_count": 8,
   "metadata": {},
   "outputs": [],
   "source": [
    "from itertools import islice,count,cycle"
   ]
  },
  {
   "cell_type": "code",
   "execution_count": 2,
   "metadata": {},
   "outputs": [
    {
     "name": "stdout",
     "output_type": "stream",
     "text": [
      "[0, 1, 2, 3, 4, 5, 6, 7, 8, 9]\n"
     ]
    }
   ],
   "source": [
    "list_01 = list(range(10))\n",
    "print(list_01)"
   ]
  },
  {
   "cell_type": "code",
   "execution_count": 3,
   "metadata": {},
   "outputs": [
    {
     "name": "stdout",
     "output_type": "stream",
     "text": [
      "[2, 4, 6, 8, 10]\n"
     ]
    }
   ],
   "source": [
    "list_01 = [i for i in islice(count(2,2),5)]\n",
    "print(list_01)"
   ]
  },
  {
   "cell_type": "code",
   "execution_count": 5,
   "metadata": {},
   "outputs": [
    {
     "name": "stdout",
     "output_type": "stream",
     "text": [
      "[1, 3, 5, 7]\n"
     ]
    }
   ],
   "source": [
    "list_02 = [i for i in islice(count(),1,9,2)]\n",
    "print(list_02)"
   ]
  },
  {
   "cell_type": "code",
   "execution_count": 7,
   "metadata": {},
   "outputs": [],
   "source": [
    "# itertools中提供的无限迭代器，分别是count(),cycle(),repeat()"
   ]
  },
  {
   "cell_type": "code",
   "execution_count": 9,
   "metadata": {},
   "outputs": [],
   "source": [
    "# 3 cycle() 函数\n",
    "# cycle() 语法：itertools.cycle(iterable), 迭代至序列p最后一个元素后，再从序列p的第一个元素重新循环"
   ]
  },
  {
   "cell_type": "code",
   "execution_count": 10,
   "metadata": {},
   "outputs": [
    {
     "name": "stdout",
     "output_type": "stream",
     "text": [
      "[0, 1, 2, 3, 0, 1, 2, 3, 0, 1]\n"
     ]
    }
   ],
   "source": [
    "list_01 = [i for i in islice(cycle(range(4)),10)]\n",
    "print(list_01)"
   ]
  },
  {
   "cell_type": "code",
   "execution_count": 11,
   "metadata": {},
   "outputs": [],
   "source": [
    "# 4 repeat()函数\n",
    "# repeat() 语法：itertools.repeat(object,times) ,将object重复times次，如果不指定，则无限循环"
   ]
  },
  {
   "cell_type": "code",
   "execution_count": 12,
   "metadata": {},
   "outputs": [
    {
     "name": "stdout",
     "output_type": "stream",
     "text": [
      "['a', 'a', 'a']\n"
     ]
    }
   ],
   "source": [
    "from itertools import *\n",
    "list_01 = [i for i in repeat('a',3)]\n",
    "print(list_01)"
   ]
  },
  {
   "cell_type": "code",
   "execution_count": 13,
   "metadata": {},
   "outputs": [
    {
     "name": "stdout",
     "output_type": "stream",
     "text": [
      "[1, 3, 6, 10, 15]\n"
     ]
    }
   ],
   "source": [
    "# 其他有趣的函数\n",
    "# 5. accumulate() 可以将一个函数连续地作用在可迭代序列上，和reduce()函数一样，先对第一个和第二个元素计算，再将结果和第三个元素进行计算\n",
    "# 语法：accumulate(iterable,func)\n",
    "# accumulate()作为迭代器的函数，它输出的元素和输入是等长的。\n",
    "# reduce() 函数是对可迭代对象进行收敛，最后只输出一个元素\n",
    "# 默认的func是一个add函数\n",
    "list_01 = list(accumulate([1,2,3,4,5]))\n",
    "print(list_01)"
   ]
  },
  {
   "cell_type": "code",
   "execution_count": 14,
   "metadata": {},
   "outputs": [
    {
     "name": "stdout",
     "output_type": "stream",
     "text": [
      "[1, 6, 12, 19, 27]\n"
     ]
    }
   ],
   "source": [
    "# 定义函数\n",
    "def my_func(a,b):\n",
    "    return a + b + 3\n",
    "list_02 = list(accumulate([1,2,3,4,5],my_func))\n",
    "print(list_02)"
   ]
  },
  {
   "cell_type": "code",
   "execution_count": 15,
   "metadata": {},
   "outputs": [
    {
     "name": "stdout",
     "output_type": "stream",
     "text": [
      "[0, 1, 2, 3, 0, 1, 2, 3, 0, 1]\n"
     ]
    }
   ],
   "source": [
    "# 生成一个可迭代的对象：\n",
    "list_01 = list(islice(cycle(range(4)),10))\n",
    "print(list_01)"
   ]
  },
  {
   "cell_type": "code",
   "execution_count": 16,
   "metadata": {},
   "outputs": [
    {
     "name": "stdout",
     "output_type": "stream",
     "text": [
      "[0, 1, 2, 3, 3, 3, 3, 3, 3, 3]\n"
     ]
    }
   ],
   "source": [
    "# 对于accumulate引入max（）函数：\n",
    "list_02 = list(accumulate(list_01,max))\n",
    "print(list_02)"
   ]
  },
  {
   "cell_type": "code",
   "execution_count": 17,
   "metadata": {},
   "outputs": [
    {
     "name": "stdout",
     "output_type": "stream",
     "text": [
      "[1, 2, 3, 'a', 'b', 'c']\n"
     ]
    }
   ],
   "source": [
    "# 6. chaiin() 函数  能够将多个可迭代对象合并成一个更长的可迭代对象\n",
    "print(list(chain([1,2,3],['a','b','c'])))"
   ]
  },
  {
   "cell_type": "code",
   "execution_count": 18,
   "metadata": {},
   "outputs": [
    {
     "name": "stdout",
     "output_type": "stream",
     "text": [
      "1\n",
      "2\n",
      "3\n",
      "a\n",
      "b\n",
      "c\n"
     ]
    }
   ],
   "source": [
    "i0 = chain([1,2,3],['a','b','c'])\n",
    "for i in i0:\n",
    "    print(i)"
   ]
  },
  {
   "cell_type": "code",
   "execution_count": 19,
   "metadata": {},
   "outputs": [
    {
     "name": "stdout",
     "output_type": "stream",
     "text": [
      "A\n",
      "D\n",
      "E\n",
      "G\n"
     ]
    }
   ],
   "source": [
    "# 7  compress() 函数   它会交替检查两个可迭代对象，如果第二个的是True，则保留第一个中相应位置的元素，在很多场景下这是非常有用的。\n",
    "letters='ABCDEFG'\n",
    "bools=[1,0,0,1,1,0,1]\n",
    "i0 = compress(letters,bools)\n",
    "for i in i0:\n",
    "    print(i)"
   ]
  },
  {
   "cell_type": "code",
   "execution_count": 20,
   "metadata": {},
   "outputs": [
    {
     "name": "stdout",
     "output_type": "stream",
     "text": [
      "[10, 30, 2, 4]\n"
     ]
    }
   ],
   "source": [
    "# 8  dropwhile()函数 \n",
    "# dropwhile() 需要输入两个参数：predicate和iterable,一个预言和一个可迭代对象，然后会根据这个断言应用在可迭代对象上，当不符合\n",
    "# 预言时，输出后面所有的迭代结果\n",
    "print(list(dropwhile(lambda x:x<10,[1,5,7,10,30,2,4])))"
   ]
  },
  {
   "cell_type": "code",
   "execution_count": 21,
   "metadata": {},
   "outputs": [
    {
     "name": "stdout",
     "output_type": "stream",
     "text": [
      "[1, 5, 7, 2, 4]\n"
     ]
    }
   ],
   "source": [
    "# 9  filterfalse()函数\n",
    "# filterfalse() 是一个过滤器，如果预言为false,输出可迭代内容\n",
    "def greater_than_ten(x):\n",
    "    return x>=10\n",
    "print(list(filterfalse(greater_than_ten,[1,5,7,10,30,2,4])))"
   ]
  },
  {
   "cell_type": "code",
   "execution_count": 23,
   "metadata": {},
   "outputs": [
    {
     "name": "stdout",
     "output_type": "stream",
     "text": [
      "[10, 30]\n",
      "[10, 30, 2, 4]\n"
     ]
    }
   ],
   "source": [
    "# filterfalse()函数对迭代对象的全部进行都进行比较，而dropwhile()只要是false就停止，然后输出后面的内容\n",
    "print(list(filterfalse(lambda x:x<10,[1,5,7,10,30,2,4])))\n",
    "print(list(dropwhile(lambda x:x<10,[1,5,7,10,30,2,4])))"
   ]
  },
  {
   "cell_type": "code",
   "execution_count": 24,
   "metadata": {},
   "outputs": [],
   "source": [
    "# 10  groupby() 函数，可以将元素按照指定的key来归类\n",
    "# 语法：itertools.groupby(iterable,key=None)"
   ]
  },
  {
   "cell_type": "code",
   "execution_count": 25,
   "metadata": {},
   "outputs": [
    {
     "name": "stdout",
     "output_type": "stream",
     "text": [
      "[('Apple', 'iMac'), ('Apple', 'iPad'), ('Apple', 'iphone'), ('Huawei', 'P10'), ('Huawei', 'P9'), ('Microsoft', 'Surface')]\n"
     ]
    }
   ],
   "source": [
    "list_0 = sorted([('Apple','iphone'),('Apple','iMac'),('Microsoft','Surface'),('Apple','iPad'),('Huawei','P9'),('Huawei','P10')])\n",
    "print(list_0)"
   ]
  },
  {
   "cell_type": "code",
   "execution_count": 26,
   "metadata": {},
   "outputs": [
    {
     "name": "stdout",
     "output_type": "stream",
     "text": [
      "[('Apple', <itertools._grouper object at 0x7f9bf742a208>), ('Huawei', <itertools._grouper object at 0x7f9bf742a550>), ('Microsoft', <itertools._grouper object at 0x7f9bf7065668>)]\n"
     ]
    }
   ],
   "source": [
    "print(list(groupby(list_0,lambda make:make[0])))"
   ]
  },
  {
   "cell_type": "code",
   "execution_count": 28,
   "metadata": {},
   "outputs": [
    {
     "name": "stdout",
     "output_type": "stream",
     "text": [
      "iMac is made by Apple\n",
      "iPad is made by Apple\n",
      "iphone is made by Apple\n",
      "\n",
      "P10 is made by Huawei\n",
      "P9 is made by Huawei\n",
      "\n",
      "Surface is made by Microsoft\n",
      "\n"
     ]
    }
   ],
   "source": [
    "for key,group in groupby(list_0,lambda make:make[0]):\n",
    "    for make,item in group:\n",
    "        print('{} is made by {}'.format(item,make))\n",
    "    print('')"
   ]
  },
  {
   "cell_type": "code",
   "execution_count": 29,
   "metadata": {},
   "outputs": [],
   "source": [
    "# 如上所示： 循环list_0，取每个元素内的第0个位置的元素，以此来分组。\n",
    "# 分组后，第二个元组是一个可迭代对象，可以用循环来获得这个迭代对象的值。"
   ]
  },
  {
   "cell_type": "code",
   "execution_count": 31,
   "metadata": {},
   "outputs": [
    {
     "name": "stdout",
     "output_type": "stream",
     "text": [
      "[(1, 4, 4), (2, 4, 8), (3, 4, 12), (4, 4, 16)]\n"
     ]
    }
   ],
   "source": [
    "# 11. starmap()函数\n",
    "# 语法：itertools.starmap(function,iterable)\n",
    "# startmap() 对于一个可迭代对象进行指定函数的计算\n",
    "print(list(starmap(lambda x,y:(x,y,x*y),[(1,4),(2,4),(3,4),(4,4)])))"
   ]
  },
  {
   "cell_type": "code",
   "execution_count": 32,
   "metadata": {},
   "outputs": [],
   "source": [
    "# star map, 也叫* map。\n",
    "# 当传入的参数已经按照tuple元组方式组成的可迭代对象（也就是说这些参数已经被预先zip好了）"
   ]
  },
  {
   "cell_type": "code",
   "execution_count": 33,
   "metadata": {},
   "outputs": [
    {
     "name": "stdout",
     "output_type": "stream",
     "text": [
      "[1, 5, 7]\n"
     ]
    }
   ],
   "source": [
    "# 12.  takewhile() 函数\n",
    "# 与dropwhile（）相反，它会返回符合条件的元素，但是一旦有元素不符合条件，就停止。\n",
    "print(list(takewhile(lambda x:x<10,[1,5,7,10,30,2,4])))"
   ]
  },
  {
   "cell_type": "code",
   "execution_count": 35,
   "metadata": {},
   "outputs": [
    {
     "name": "stdout",
     "output_type": "stream",
     "text": [
      "[10, 30, 2, 4]\n"
     ]
    }
   ],
   "source": [
    "print(list(dropwhile(lambda x:x<10,[1,5,7,10,30,2,4])))"
   ]
  },
  {
   "cell_type": "code",
   "execution_count": 36,
   "metadata": {},
   "outputs": [
    {
     "name": "stdout",
     "output_type": "stream",
     "text": [
      "[0, 1, 2, 3, 4, 5, 6, 7, 8, 9]\n"
     ]
    }
   ],
   "source": [
    "# 13. tee()函数\n",
    "# 语法：itertools.tee(iterable,n=2)\n",
    "# tee() 它从一个迭代器生成几个相同的迭代器。由于迭代器的特殊性质，当你访问过一个迭代器后，数据就没了。用list转换并不是一个很好的办法\n",
    "# 因为使用迭代器本身就是为了节约内存，如果使用list复制了，这个特点也就没有了。\n",
    "i1,i2=tee(range(10),2)\n",
    "print(list(i1))"
   ]
  },
  {
   "cell_type": "code",
   "execution_count": 37,
   "metadata": {},
   "outputs": [
    {
     "name": "stdout",
     "output_type": "stream",
     "text": [
      "[]\n"
     ]
    }
   ],
   "source": [
    "print(list(i1))"
   ]
  },
  {
   "cell_type": "code",
   "execution_count": 38,
   "metadata": {},
   "outputs": [
    {
     "name": "stdout",
     "output_type": "stream",
     "text": [
      "[0, 1, 2, 3, 4, 5, 6, 7, 8, 9]\n"
     ]
    }
   ],
   "source": [
    "print(list(i2))"
   ]
  },
  {
   "cell_type": "code",
   "execution_count": 39,
   "metadata": {},
   "outputs": [
    {
     "name": "stdout",
     "output_type": "stream",
     "text": [
      "[]\n"
     ]
    }
   ],
   "source": [
    "print(list(i2))"
   ]
  },
  {
   "cell_type": "code",
   "execution_count": 40,
   "metadata": {},
   "outputs": [],
   "source": [
    "# 对一个迭代器进行多次访问"
   ]
  },
  {
   "cell_type": "code",
   "execution_count": 41,
   "metadata": {},
   "outputs": [
    {
     "name": "stdout",
     "output_type": "stream",
     "text": [
      "('A', '1')\n",
      "('B', '2')\n",
      "('C', 'blank')\n",
      "('D', 'blank')\n"
     ]
    }
   ],
   "source": [
    "# 14. zip_longest()\n",
    "# 语法：itertools.zip_longest(*iterables,fillvalue=None)\n",
    "# 与zip()相似，不同的是，可以把长短不一的迭代对象，组合起来，然后以fillvalue为其填充，结果还是一个可以迭代的序列\n",
    "for item in zip_longest('ABCD','12',fillvalue='blank'):\n",
    "    print(item)"
   ]
  },
  {
   "cell_type": "code",
   "execution_count": null,
   "metadata": {},
   "outputs": [],
   "source": []
  }
 ],
 "metadata": {
  "kernelspec": {
   "display_name": "Python 3",
   "language": "python",
   "name": "python3"
  },
  "language_info": {
   "codemirror_mode": {
    "name": "ipython",
    "version": 3
   },
   "file_extension": ".py",
   "mimetype": "text/x-python",
   "name": "python",
   "nbconvert_exporter": "python",
   "pygments_lexer": "ipython3",
   "version": "3.6.8"
  }
 },
 "nbformat": 4,
 "nbformat_minor": 2
}
